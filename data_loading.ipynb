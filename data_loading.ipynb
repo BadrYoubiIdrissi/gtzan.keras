{
 "cells": [
  {
   "cell_type": "code",
   "execution_count": 1,
   "metadata": {},
   "outputs": [
    {
     "name": "stderr",
     "output_type": "stream",
     "text": [
      "Using TensorFlow backend.\n"
     ]
    }
   ],
   "source": [
    "from src.gtzan import read_data"
   ]
  },
  {
   "cell_type": "code",
   "execution_count": 5,
   "metadata": {},
   "outputs": [
    {
     "name": "stdout",
     "output_type": "stream",
     "text": [
      "Reading file: genres/metal/metal.00082.au\n",
      "Reading file: genres/metal/metal.00005.au\n",
      "Reading file: genres/disco/disco.00062.au\n",
      "Reading file: genres/disco/disco.00003.au\n",
      "Reading file: genres/classical/classical.00080.au\n",
      "Reading file: genres/classical/classical.00012.au\n",
      "Reading file: genres/hiphop/hiphop.00077.au\n",
      "Reading file: genres/hiphop/hiphop.00062.au\n",
      "Reading file: genres/jazz/jazz.00075.au\n",
      "Reading file: genres/jazz/jazz.00005.au\n",
      "Reading file: genres/country/country.00053.au\n",
      "Reading file: genres/country/country.00043.au\n",
      "Reading file: genres/pop/pop.00076.au\n",
      "Reading file: genres/pop/pop.00093.au\n",
      "Reading file: genres/blues/blues.00002.au\n",
      "Reading file: genres/blues/blues.00029.au\n",
      "Reading file: genres/reggae/reggae.00011.au\n",
      "Reading file: genres/reggae/reggae.00006.au\n",
      "Reading file: genres/rock/rock.00042.au\n",
      "Reading file: genres/rock/rock.00027.au\n"
     ]
    }
   ],
   "source": [
    "genres = {'metal': 0, 'disco': 1, 'classical': 2, 'hiphop': 3, 'jazz': 4, \n",
    "          'country': 5, 'pop': 6, 'blues': 7, 'reggae': 8, 'rock': 9}\n",
    "X,y = read_data(\"genres/\", genres, limit=2, nperseg=256)"
   ]
  },
  {
   "cell_type": "code",
   "execution_count": 6,
   "metadata": {},
   "outputs": [
    {
     "data": {
      "text/plain": [
       "(380, 129, 517, 2)"
      ]
     },
     "execution_count": 6,
     "metadata": {},
     "output_type": "execute_result"
    }
   ],
   "source": [
    "X.shape"
   ]
  }
 ],
 "metadata": {
  "kernelspec": {
   "display_name": "Python 3",
   "language": "python",
   "name": "python3"
  },
  "language_info": {
   "codemirror_mode": {
    "name": "ipython",
    "version": 3
   },
   "file_extension": ".py",
   "mimetype": "text/x-python",
   "name": "python",
   "nbconvert_exporter": "python",
   "pygments_lexer": "ipython3",
   "version": "3.6.6"
  }
 },
 "nbformat": 4,
 "nbformat_minor": 2
}
